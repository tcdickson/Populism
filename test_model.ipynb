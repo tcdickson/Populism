{
 "cells": [
  {
   "metadata": {
    "ExecuteTime": {
     "end_time": "2025-08-17T17:36:07.861426Z",
     "start_time": "2025-08-17T17:35:53.308679Z"
    }
   },
   "cell_type": "code",
   "source": [
    "import torch\n",
    "from transformers import AutoTokenizer, AutoModelForSeq2SeqLM\n",
    "\n",
    "MODEL_ID = \"tdickson17/Populism_detection\"\n",
    "device = \"cuda\" if torch.cuda.is_available() else \"cpu\"\n",
    "\n",
    "tok = AutoTokenizer.from_pretrained(MODEL_ID)\n",
    "model = AutoModelForSeq2SeqLM.from_pretrained(MODEL_ID).to(device).eval()\n",
    "\n",
    "MAX_SRC, MAX_SUM = 1024, 128\n",
    "DEC_START = model.config.decoder_start_token_id\n",
    "ID0 = tok(\"0\", add_special_tokens=False)[\"input_ids\"][0]\n",
    "ID1 = tok(\"1\", add_special_tokens=False)[\"input_ids\"][0]\n",
    "\n",
    "THRESHOLD = 0.5  # raise for higher precision, lower for higher recall\n",
    "POSITIVE_MSG = \"This text DOES contain populist sentiment.\\n\"\n",
    "NEGATIVE_MSG = \"Populist sentiment is NOT detected in this text.\\n\"\n",
    "\n",
    "GEN_SUM = dict(\n",
    "    do_sample=False, num_beams=5,\n",
    "    max_new_tokens=MAX_SUM, min_new_tokens=16,\n",
    "    length_penalty=1.1, no_repeat_ngram_size=3\n",
    ")\n",
    "\n",
    "@torch.no_grad()\n",
    "def summarize(text: str) -> str:\n",
    "    enc = tok(\"summarize: \" + text, return_tensors=\"pt\",\n",
    "              truncation=True, max_length=MAX_SRC).to(device)\n",
    "    out = model.generate(**enc, **GEN_SUM)\n",
    "    s = tok.decode(out[0], skip_special_tokens=True).strip()\n",
    "    if s.lower().startswith(\"summarize:\"):\n",
    "        s = s.split(\":\", 1)[1].strip()\n",
    "    return s\n",
    "\n",
    "@torch.no_grad()\n",
    "def classify_populism_prob(text: str) -> float:\n",
    "    enc = tok(\"classify_populism: \" + text, return_tensors=\"pt\",\n",
    "              truncation=True, max_length=MAX_SRC).to(device)\n",
    "    dec_inp = torch.tensor([[DEC_START]], device=device)\n",
    "    logits = model(**enc, decoder_input_ids=dec_inp, use_cache=False).logits[:, -1, :]\n",
    "\n",
    "    two = torch.stack([logits[:, ID0], logits[:, ID1]], dim=-1)\n",
    "    p1 = torch.softmax(two, dim=-1)[0, 1].item()\n",
    "    return p1\n",
    "\n",
    "def classify_populism_label(text: str, threshold: float = THRESHOLD, include_probability: bool = True) -> str:\n",
    "    p1 = classify_populism_prob(text)\n",
    "    msg = POSITIVE_MSG if p1 >= threshold else NEGATIVE_MSG\n",
    "    return f\"{msg} Confidence={p1:.3f}%\" if include_probability else msg\n",
    "\n",
    "# Example\n",
    "text = \"\"\"<Insert Text here>\"\"\"\n",
    "print(classify_populism_label(text))\n",
    "print(\"\\nSummary:\\n\", summarize(text))\n"
   ],
   "id": "a066bed8e9fb8332",
   "outputs": [
    {
     "name": "stdout",
     "output_type": "stream",
     "text": [
      "This text DOES contain populist sentiment.\n",
      " Confidence=0.939%\n",
      "\n",
      "Summary:\n",
      " Labour's Séan Sherlock has called for Minister of State Pat Breen to clarify his meetings with David McCourt, a lead bidder on the National Broadband Plan. Allegations of undisclosed meetings, including private visits, have raised concerns about transparency and potential conflicts of interest. Labour demands Fine Gael provide full disclosure on these interactions and the nature of the meetings.Labour Dáil Communications spokesperson SéAN Sherlock has been calling on Minister Of State Pat breen to make a statement to the DáIL outlining the purpose and content of his meetings in the Irish Mail on Sunday, and Sunday Business Post.Labour\n"
     ]
    }
   ],
   "execution_count": 1
  },
  {
   "metadata": {},
   "cell_type": "code",
   "outputs": [],
   "execution_count": null,
   "source": "",
   "id": "6b2823469012022a"
  }
 ],
 "metadata": {
  "kernelspec": {
   "display_name": "Python 3",
   "language": "python",
   "name": "python3"
  },
  "language_info": {
   "codemirror_mode": {
    "name": "ipython",
    "version": 2
   },
   "file_extension": ".py",
   "mimetype": "text/x-python",
   "name": "python",
   "nbconvert_exporter": "python",
   "pygments_lexer": "ipython2",
   "version": "2.7.6"
  }
 },
 "nbformat": 4,
 "nbformat_minor": 5
}
